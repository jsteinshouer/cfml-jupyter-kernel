{
 "cells": [
  {
   "cell_type": "markdown",
   "id": "096f9976",
   "metadata": {},
   "source": [
    "# CFML (Tag) Hello World Example\n",
    "\n",
    "Set a variable."
   ]
  },
  {
   "cell_type": "code",
   "execution_count": null,
   "id": "6495b671-0a52-460f-a3ba-d23a6f7a5abc",
   "metadata": {
    "vscode": {
     "languageId": "cfml"
    }
   },
   "outputs": [],
   "source": [
    "<cfset myVar = \"Hello World\">"
   ]
  },
  {
   "cell_type": "markdown",
   "id": "331415d0",
   "metadata": {},
   "source": [
    "Output the variable."
   ]
  },
  {
   "cell_type": "code",
   "execution_count": null,
   "id": "33102b31-3f37-46fe-ba97-e3224d5d159c",
   "metadata": {
    "vscode": {
     "languageId": "cfml"
    }
   },
   "outputs": [],
   "source": [
    "<cfoutput>#myVar#</cfoutput>"
   ]
  },
  {
   "cell_type": "markdown",
   "id": "21aa3834",
   "metadata": {},
   "source": [
    "Now we can call a `function` to reverse it."
   ]
  },
  {
   "cell_type": "code",
   "execution_count": null,
   "id": "8f72ee4f-b193-4ad3-a4fb-d8c07be7dbad",
   "metadata": {
    "vscode": {
     "languageId": "cfml"
    }
   },
   "outputs": [],
   "source": [
    "<cfoutput>#reverse(myVar)#</cfoutput>"
   ]
  },
  {
   "cell_type": "code",
   "execution_count": null,
   "id": "d4ee3379-2949-43ff-aed2-ee11f0c657de",
   "metadata": {},
   "outputs": [],
   "source": []
  }
 ],
 "metadata": {
  "kernelspec": {
   "display_name": "CFML (Tag)",
   "language": "CFML",
   "name": "cfml"
  },
  "language_info": {
   "file_extension": ".cfm",
   "mimetype": "text/x-html",
   "name": "CFML"
  }
 },
 "nbformat": 4,
 "nbformat_minor": 5
}
