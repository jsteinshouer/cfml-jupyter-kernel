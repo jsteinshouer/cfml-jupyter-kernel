{
 "cells": [
  {
   "cell_type": "markdown",
   "id": "23eb54df",
   "metadata": {},
   "source": [
    "# CFML Arrow Functions"
   ]
  },
  {
   "cell_type": "markdown",
   "id": "dd11646b-2f14-4f34-83b3-830a36f768f5",
   "metadata": {},
   "source": [
    "With the release of Coldfusion 2018 Update 5 we have a new syntax for defining function expressions also known as closures. It is meant to be more concise syntax defining function expressions. \n",
    "\n",
    "<aside>\n",
    "💡 Closures have been available since CF 10 but we have been using them in JavaScript for longer. Closures are functions we define as parameters to other functions. They can also be assigned to variables and  returned from other functions. jQuery event handlers are an example of this.\n",
    "\n",
    "</aside>"
   ]
  },
  {
   "cell_type": "code",
   "execution_count": null,
   "id": "7ed908a0-366e-4aff-bf2e-2237963399d2",
   "metadata": {
    "vscode": {
     "languageId": "cfml"
    }
   },
   "outputs": [],
   "source": [
    "sayHello = (name) => \"Hello, #arguments.name#\";\n",
    "\n",
    "writeOutput( sayHello(\"World\") ); // Hello, World"
   ]
  },
  {
   "cell_type": "code",
   "execution_count": null,
   "id": "bd7d58a4-ec21-4e35-8b90-57d6c8f480a8",
   "metadata": {
    "vscode": {
     "languageId": "cfml"
    }
   },
   "outputs": [],
   "source": [
    "multiply = (x,y) => x * y;\n",
    "\n",
    "writeOutput(multiply(2,4));\n",
    "writeOutput(multiply(5,6)); "
   ]
  },
  {
   "cell_type": "code",
   "execution_count": null,
   "id": "efe717ee",
   "metadata": {
    "vscode": {
     "languageId": "cfml"
    }
   },
   "outputs": [],
   "source": [
    "sayHello = function( name ) {\n",
    "    return \"Hello, #arguments.name#\";\n",
    "};"
   ]
  },
  {
   "cell_type": "code",
   "execution_count": null,
   "id": "4c2d8df4-c191-4cda-9083-6fa3ddb5d86d",
   "metadata": {
    "vscode": {
     "languageId": "cfml"
    }
   },
   "outputs": [],
   "source": [
    "sayHello( \"Fred\")"
   ]
  },
  {
   "cell_type": "code",
   "execution_count": null,
   "id": "7029dda7-30cf-4e04-945f-eed1bffe5801",
   "metadata": {
    "vscode": {
     "languageId": "cfml"
    }
   },
   "outputs": [],
   "source": [
    "salesTeam = ([\n",
    "\t{ name=\"Fred Flinstone\", production=9000 },\n",
    "\t{ name=\"Wilma Flinstone\", production=100000 },\n",
    "\t{ name=\"Barney Rubbel\", production=40000 },\n",
    "\t{ name=\"Betty Rubbel\", production=40000 },\n",
    "\t{ name=\"Mr Spacely\", production=8000 },\n",
    "\t{ name=\"George Jetson\", production=80000 }\n",
    "]);\n"
   ]
  },
  {
   "cell_type": "code",
   "execution_count": null,
   "id": "1a555c73-e010-4e99-95cb-f0025358fceb",
   "metadata": {
    "vscode": {
     "languageId": "cfml"
    }
   },
   "outputs": [],
   "source": [
    "output = serializeJSON(\n",
    "    salesTeam\n",
    "        .filter( (member) => member.production > 10000 )\n",
    "        .sort( (member1,member2) => member1.production > member2.production ? -1 : 1)\n",
    ");\n",
    "writeOutput( output );"
   ]
  },
  {
   "cell_type": "code",
   "execution_count": null,
   "id": "295adc82-dcb8-4192-8c6a-61af3d045088",
   "metadata": {
    "vscode": {
     "languageId": "cfml"
    }
   },
   "outputs": [],
   "source": [
    "writeOutput( \n",
    "    salesTeam.reduce( (total,member) => total + member.production, 0) \n",
    ");\n"
   ]
  },
  {
   "cell_type": "code",
   "execution_count": null,
   "id": "e7b1a7fe-bff4-4097-8ec5-00d6aba53a5f",
   "metadata": {
    "vscode": {
     "languageId": "cfml"
    }
   },
   "outputs": [],
   "source": []
  }
 ],
 "metadata": {
  "kernelspec": {
   "display_name": "CFML (Script)",
   "language": "CFML",
   "name": "cfscript"
  },
  "language_info": {
   "file_extension": ".cfm",
   "mimetype": "text/x-javascript",
   "name": "CFScript"
  }
 },
 "nbformat": 4,
 "nbformat_minor": 5
}
