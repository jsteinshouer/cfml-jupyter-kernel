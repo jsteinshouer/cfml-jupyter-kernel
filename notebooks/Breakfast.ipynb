{
 "cells": [
  {
   "cell_type": "code",
   "execution_count": null,
   "id": "64e04f99-75d8-4f3d-ac3b-cb048d9c0ea3",
   "metadata": {
    "vscode": {
     "languageId": "cfml"
    }
   },
   "outputs": [
    {
     "ename": "",
     "evalue": "",
     "output_type": "error",
     "traceback": [
      "\u001b[1;31mFailed to start the Kernel. \n",
      "\u001b[1;31mView Jupyter <a href='command:jupyter.viewOutput'>log</a> for further details."
     ]
    }
   ],
   "source": [
    "breakfast = [\"bacon\",\"eggs\"]"
   ]
  },
  {
   "cell_type": "code",
   "execution_count": 2,
   "id": "fae4576f-c80c-40cb-b9c0-4b95688e8170",
   "metadata": {
    "vscode": {
     "languageId": "cfml"
    }
   },
   "outputs": [
    {
     "name": "stdout",
     "output_type": "stream",
     "text": [
      "2\n",
      "\n",
      "Hello"
     ]
    }
   ],
   "source": [
    "breakfast.len();"
   ]
  },
  {
   "cell_type": "code",
   "execution_count": 3,
   "id": "cb24f286-2f3b-406e-a7c1-f8a91adb6c7e",
   "metadata": {
    "vscode": {
     "languageId": "cfml"
    }
   },
   "outputs": [
    {
     "name": "stdout",
     "output_type": "stream",
     "text": [
      "[\n",
      "    \"bacon\",\n",
      "    \"eggs\",\n",
      "    \"orange juice\"\n",
      "]"
     ]
    }
   ],
   "source": [
    "breakfast.append( 'orange juice' )"
   ]
  }
 ],
 "metadata": {
  "kernelspec": {
   "display_name": "CFML (Tag)",
   "language": "CFML",
   "name": "cfml"
  },
  "language_info": {
   "file_extension": ".cfm",
   "mimetype": "text/x-javascript",
   "name": "CFML"
  }
 },
 "nbformat": 4,
 "nbformat_minor": 5
}
