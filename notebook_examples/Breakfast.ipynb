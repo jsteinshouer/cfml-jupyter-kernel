{
 "cells": [
  {
   "attachments": {},
   "cell_type": "markdown",
   "id": "64e04f99-75d8-4f3d-ac3b-cb048d9c0ea3",
   "metadata": {
    "vscode": {
     "languageId": "cfml"
    }
   },
   "source": [
    "### Example notebook for working with arrays in CFML"
   ]
  },
  {
   "cell_type": "code",
   "execution_count": 1,
   "id": "5476a3ca",
   "metadata": {
    "vscode": {
     "languageId": "cfml"
    }
   },
   "outputs": [
    {
     "name": "stdout",
     "output_type": "stream",
     "text": [
      "[\n",
      "    \u001b[92m\"bacon\"\u001b[0m,\n",
      "    \u001b[92m\"eggs\"\u001b[0m\n",
      "]"
     ]
    }
   ],
   "source": [
    "breakfast = [\"bacon\",\"eggs\"]"
   ]
  },
  {
   "cell_type": "code",
   "execution_count": 2,
   "id": "fae4576f-c80c-40cb-b9c0-4b95688e8170",
   "metadata": {
    "vscode": {
     "languageId": "cfml"
    }
   },
   "outputs": [
    {
     "name": "stdout",
     "output_type": "stream",
     "text": [
      "2\n"
     ]
    }
   ],
   "source": [
    "breakfast.len();"
   ]
  },
  {
   "cell_type": "code",
   "execution_count": 3,
   "id": "cb24f286-2f3b-406e-a7c1-f8a91adb6c7e",
   "metadata": {
    "vscode": {
     "languageId": "cfml"
    }
   },
   "outputs": [
    {
     "name": "stdout",
     "output_type": "stream",
     "text": [
      "[\n",
      "    \u001b[92m\"bacon\"\u001b[0m,\n",
      "    \u001b[92m\"eggs\"\u001b[0m,\n",
      "    \u001b[92m\"orange juice\"\u001b[0m\n",
      "]\n"
     ]
    }
   ],
   "source": [
    "breakfast.append( 'orange juice' )"
   ]
  }
 ],
 "metadata": {
  "kernelspec": {
   "display_name": "CFML (Script)",
   "language": "CFML",
   "name": "cfscript"
  },
  "language_info": {
   "file_extension": ".cfm",
   "mimetype": "text/x-javascript",
   "name": "CFScript"
  }
 },
 "nbformat": 4,
 "nbformat_minor": 5
}
